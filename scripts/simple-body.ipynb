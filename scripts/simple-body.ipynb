{
 "cells": [
  {
   "cell_type": "markdown",
   "source": [
    "# Simple, Phase 1, approximate flight profile simulation"
   ],
   "metadata": {}
  },
  {
   "cell_type": "code",
   "execution_count": 39,
   "source": [
    "import numpy as np\n",
    "import pandas as pd\n",
    "import matplotlib.pyplot as plt\n",
    "import control\n",
    "\n",
    "# Purdue AA451 library\n",
    "from scripts.jsbsim_utils import Logger, trim, simulate, linearize, rootlocus, clean_tf"
   ],
   "outputs": [],
   "metadata": {}
  },
  {
   "cell_type": "code",
   "execution_count": 40,
   "source": [
    "aircraft_model = 'WaveRipper'"
   ],
   "outputs": [],
   "metadata": {}
  },
  {
   "cell_type": "markdown",
   "source": [
    "# Ground Trim"
   ],
   "metadata": {}
  },
  {
   "cell_type": "code",
   "execution_count": 41,
   "source": [
    "op_ground, props = trim(\n",
    "    aircraft=aircraft_model,\n",
    "    ic={\n",
    "        'ic/vt-fps': 0,\n",
    "        'ic/h-agl-ft': 5,\n",
    "        'ic/psi-true-deg': 280,\n",
    "        'fcs/left-brake-cmd-norm': 1,\n",
    "        'fcs/right-brake-cmd-norm': 1,\n",
    "        'fcs/center-brake-cmd-norm': 1,\n",
    "    },\n",
    "    design_vector=['ic/theta-rad', 'ic/h-agl-ft'],\n",
    "    x0=[0, 0],\n",
    "    verbose=True,\n",
    "    method='Nelder-Mead', # works better with ground interaction\n",
    "    ftol=1e-2,\n",
    ")\n",
    "op_ground"
   ],
   "outputs": [
    {
     "output_type": "stream",
     "name": "stdout",
     "text": [
      " final_simplex: (array([[-0.00398416, -0.0198497 ],\n",
      "       [-0.00397723, -0.01982051],\n",
      "       [-0.00397813, -0.01978912]]), array([0.0010305 , 0.00103479, 0.00109463]))\n",
      "           fun: 0.0010305007323130465\n",
      "       message: 'Optimization terminated successfully.'\n",
      "          nfev: 78\n",
      "           nit: 41\n",
      "        status: 0\n",
      "       success: True\n",
      "             x: array([-0.00398416, -0.0198497 ])\n"
     ]
    },
    {
     "output_type": "stream",
     "name": "stderr",
     "text": [
      "\n",
      "  The aerodynamic axis system has been set by default to the Lift/Side/Drag system.\n",
      "\n",
      "  The aerodynamic moment axis system has been set by default to the bodyXYZ system.\n"
     ]
    },
    {
     "output_type": "execute_result",
     "data": {
      "text/plain": [
       "{'ic/vt-fps': 0,\n",
       " 'ic/h-agl-ft': -0.01984969996708967,\n",
       " 'ic/psi-true-deg': 280,\n",
       " 'fcs/left-brake-cmd-norm': 1,\n",
       " 'fcs/right-brake-cmd-norm': 1,\n",
       " 'fcs/center-brake-cmd-norm': 1,\n",
       " 'ic/theta-rad': -0.0039841619774816615}"
      ]
     },
     "metadata": {},
     "execution_count": 41
    }
   ],
   "metadata": {}
  },
  {
   "cell_type": "code",
   "execution_count": 42,
   "source": [
    "op_ground"
   ],
   "outputs": [
    {
     "output_type": "execute_result",
     "data": {
      "text/plain": [
       "{'ic/vt-fps': 0,\n",
       " 'ic/h-agl-ft': -0.01984969996708967,\n",
       " 'ic/psi-true-deg': 280,\n",
       " 'fcs/left-brake-cmd-norm': 1,\n",
       " 'fcs/right-brake-cmd-norm': 1,\n",
       " 'fcs/center-brake-cmd-norm': 1,\n",
       " 'ic/theta-rad': -0.0039841619774816615}"
      ]
     },
     "metadata": {},
     "execution_count": 42
    }
   ],
   "metadata": {}
  },
  {
   "cell_type": "code",
   "execution_count": 43,
   "source": [
    "log_ground = simulate(\n",
    "    aircraft=aircraft_model,\n",
    "    op_0=op_ground,\n",
    "    tf=5,\n",
    "    realtime=False, verbose=True)"
   ],
   "outputs": [
    {
     "output_type": "stream",
     "name": "stderr",
     "text": [
      "\n",
      "  The aerodynamic axis system has been set by default to the Lift/Side/Drag system.\n",
      "\n",
      "  The aerodynamic moment axis system has been set by default to the bodyXYZ system.\n"
     ]
    }
   ],
   "metadata": {}
  },
  {
   "cell_type": "markdown",
   "source": [
    "## Hover Trim"
   ],
   "metadata": {}
  },
  {
   "cell_type": "code",
   "execution_count": 49,
   "source": [
    "op_hover, props = trim(\n",
    "    aircraft=aircraft_model,\n",
    "    ic={\n",
    "        'ic/h-sl-ft': 650,      # Height above sea level initial condition in feet\n",
    "        'ic/vt-fps': 500,       # True airspeed initial condition in feet/second\n",
    "        'ic/psi-true-deg': 280, # Heading angle initial condition in degrees\n",
    "    },\n",
    "    eq_constraints = [\n",
    "        lambda fdm: fdm['accelerations/udot-ft_sec2'],\n",
    "        #lambda fdm: fdm['accelerations/vdot-ft_sec2'],\n",
    "        lambda fdm: fdm['accelerations/wdot-ft_sec2'],\n",
    "        #lambda fdm: fdm['accelerations/pdot-rad_sec2'],\n",
    "    ],\n",
    "    design_vector=[\n",
    "        'fcs/throttle-cmd-norm',\n",
    "        'fcs/elevator-cmd-norm',\n",
    "    ],\n",
    "    x0=[0.9, 0.5],\n",
    "    cost= lambda fdm: fdm['fcs/throttle-cmd-norm'],\n",
    "    verbose=True,\n",
    "    method='SLSQP',\n",
    "    bounds=[[0, 1], [-1, 1]],\n",
    ")\n",
    "op_hover"
   ],
   "outputs": [
    {
     "output_type": "stream",
     "name": "stdout",
     "text": [
      "     fun: 0.8999999999999997\n",
      "     jac: array([1., 0.])\n",
      " message: 'Positive directional derivative for linesearch'\n",
      "    nfev: 347\n",
      "     nit: 53\n",
      "    njev: 49\n",
      "  status: 8\n",
      " success: False\n",
      "       x: array([ 0.9       , -0.79099763])\n",
      "constraint eq 42.76133080578421\n",
      "constraint eq 32.21183905857108\n"
     ]
    },
    {
     "output_type": "stream",
     "name": "stderr",
     "text": [
      "\n",
      "  The aerodynamic axis system has been set by default to the Lift/Side/Drag system.\n",
      "\n",
      "  The aerodynamic moment axis system has been set by default to the bodyXYZ system.\n"
     ]
    },
    {
     "output_type": "error",
     "ename": "RuntimeError",
     "evalue": "trim failed:\n     fun: 0.8999999999999997\n     jac: array([1., 0.])\n message: 'Positive directional derivative for linesearch'\n    nfev: 347\n     nit: 53\n    njev: 49\n  status: 8\n success: False\n       x: array([ 0.9       , -0.79099763])\n{'accelerations/a-pilot-x-ft_sec2': 42.76133035077288, 'accelerations/a-pilot-y-ft_sec2': 3.6409805536435045e-11, 'accelerations/a-pilot-z-ft_sec2': -4.1359030627651384e-25, 'accelerations/n-pilot-x-norm': 1.3290627779022985, 'accelerations/n-pilot-y-norm': 1.1316513516343913e-12, 'accelerations/n-pilot-z-norm': -1.2854779700823567e-26, 'accelerations/Nx': 1.329062778275642, 'accelerations/Ny': 0.0, 'accelerations/Nz': -0.0, 'accelerations/pdot-rad_sec2': 2.5848337571834437e-09, 'accelerations/qdot-rad_sec2': -4.557759320374709e-10, 'accelerations/rdot-rad_sec2': -5.113571937046131e-10, 'accelerations/udot-ft_sec2': 42.76133080578421, 'accelerations/vdot-ft_sec2': 0.047274842150382745, 'accelerations/wdot-ft_sec2': 32.21183905857108, 'accelerations/gravity-ft_sec2': 32.221809332708204}",
     "traceback": [
      "\u001b[0;31m---------------------------------------------------------------------------\u001b[0m",
      "\u001b[0;31mRuntimeError\u001b[0m                              Traceback (most recent call last)",
      "\u001b[0;32m/var/folders/0y/ty6zvtq53lq_qltzlh53bf6w0000gn/T/ipykernel_27249/2447792778.py\u001b[0m in \u001b[0;36m<module>\u001b[0;34m\u001b[0m\n\u001b[0;32m----> 1\u001b[0;31m op_hover, props = trim(\n\u001b[0m\u001b[1;32m      2\u001b[0m     \u001b[0maircraft\u001b[0m\u001b[0;34m=\u001b[0m\u001b[0maircraft_model\u001b[0m\u001b[0;34m,\u001b[0m\u001b[0;34m\u001b[0m\u001b[0;34m\u001b[0m\u001b[0m\n\u001b[1;32m      3\u001b[0m     ic={\n\u001b[1;32m      4\u001b[0m         \u001b[0;34m'ic/h-sl-ft'\u001b[0m\u001b[0;34m:\u001b[0m \u001b[0;36m650\u001b[0m\u001b[0;34m,\u001b[0m      \u001b[0;31m# Height above sea level initial condition in feet\u001b[0m\u001b[0;34m\u001b[0m\u001b[0;34m\u001b[0m\u001b[0m\n\u001b[1;32m      5\u001b[0m         \u001b[0;34m'ic/vt-fps'\u001b[0m\u001b[0;34m:\u001b[0m \u001b[0;36m500\u001b[0m\u001b[0;34m,\u001b[0m       \u001b[0;31m# True airspeed initial condition in feet/second\u001b[0m\u001b[0;34m\u001b[0m\u001b[0;34m\u001b[0m\u001b[0m\n",
      "\u001b[0;32m~/workfolder/boom/engine/scripts/jsbsim_utils.py\u001b[0m in \u001b[0;36mtrim\u001b[0;34m(aircraft, ic, design_vector, x0, verbose, cost, eq_constraints, tol, ftol, show, **kwargs)\u001b[0m\n\u001b[1;32m    121\u001b[0m             \u001b[0mprint\u001b[0m\u001b[0;34m(\u001b[0m\u001b[0;34m'constraint'\u001b[0m\u001b[0;34m,\u001b[0m \u001b[0mcon\u001b[0m\u001b[0;34m[\u001b[0m\u001b[0;34m'type'\u001b[0m\u001b[0;34m]\u001b[0m\u001b[0;34m,\u001b[0m \u001b[0mcon\u001b[0m\u001b[0;34m[\u001b[0m\u001b[0;34m'fun'\u001b[0m\u001b[0;34m]\u001b[0m\u001b[0;34m(\u001b[0m\u001b[0mres\u001b[0m\u001b[0;34m[\u001b[0m\u001b[0;34m'x'\u001b[0m\u001b[0;34m]\u001b[0m\u001b[0;34m,\u001b[0m \u001b[0;34m*\u001b[0m\u001b[0mcon\u001b[0m\u001b[0;34m[\u001b[0m\u001b[0;34m'args'\u001b[0m\u001b[0;34m]\u001b[0m\u001b[0;34m)\u001b[0m\u001b[0;34m)\u001b[0m\u001b[0;34m\u001b[0m\u001b[0;34m\u001b[0m\u001b[0m\n\u001b[1;32m    122\u001b[0m \u001b[0;34m\u001b[0m\u001b[0m\n\u001b[0;32m--> 123\u001b[0;31m     \u001b[0;32mif\u001b[0m \u001b[0;32mnot\u001b[0m \u001b[0mres\u001b[0m\u001b[0;34m[\u001b[0m\u001b[0;34m'success'\u001b[0m\u001b[0;34m]\u001b[0m \u001b[0;32mor\u001b[0m \u001b[0mftol\u001b[0m \u001b[0;32mis\u001b[0m \u001b[0;32mnot\u001b[0m \u001b[0;32mNone\u001b[0m \u001b[0;32mand\u001b[0m \u001b[0mabs\u001b[0m\u001b[0;34m(\u001b[0m\u001b[0mres\u001b[0m\u001b[0;34m[\u001b[0m\u001b[0;34m'fun'\u001b[0m\u001b[0;34m]\u001b[0m\u001b[0;34m)\u001b[0m \u001b[0;34m>\u001b[0m \u001b[0mftol\u001b[0m\u001b[0;34m:\u001b[0m\u001b[0;34m\u001b[0m\u001b[0;34m\u001b[0m\u001b[0m\n\u001b[0m\u001b[1;32m    124\u001b[0m         raise RuntimeError('trim failed:\\n' + str(res) + '\\n' + \\\n\u001b[1;32m    125\u001b[0m                            str(fdm.get_property_catalog('acceleration')))\n",
      "\u001b[0;31mRuntimeError\u001b[0m: trim failed:\n     fun: 0.8999999999999997\n     jac: array([1., 0.])\n message: 'Positive directional derivative for linesearch'\n    nfev: 347\n     nit: 53\n    njev: 49\n  status: 8\n success: False\n       x: array([ 0.9       , -0.79099763])\n{'accelerations/a-pilot-x-ft_sec2': 42.76133035077288, 'accelerations/a-pilot-y-ft_sec2': 3.6409805536435045e-11, 'accelerations/a-pilot-z-ft_sec2': -4.1359030627651384e-25, 'accelerations/n-pilot-x-norm': 1.3290627779022985, 'accelerations/n-pilot-y-norm': 1.1316513516343913e-12, 'accelerations/n-pilot-z-norm': -1.2854779700823567e-26, 'accelerations/Nx': 1.329062778275642, 'accelerations/Ny': 0.0, 'accelerations/Nz': -0.0, 'accelerations/pdot-rad_sec2': 2.5848337571834437e-09, 'accelerations/qdot-rad_sec2': -4.557759320374709e-10, 'accelerations/rdot-rad_sec2': -5.113571937046131e-10, 'accelerations/udot-ft_sec2': 42.76133080578421, 'accelerations/vdot-ft_sec2': 0.047274842150382745, 'accelerations/wdot-ft_sec2': 32.21183905857108, 'accelerations/gravity-ft_sec2': 32.221809332708204}"
     ]
    }
   ],
   "metadata": {}
  },
  {
   "cell_type": "code",
   "execution_count": null,
   "source": [
    "log_hover = simulate(\n",
    "    aircraft=aircraft_model,\n",
    "    op_0=op_hover,\n",
    "    tf=10,\n",
    "    realtime=False)"
   ],
   "outputs": [],
   "metadata": {}
  },
  {
   "cell_type": "code",
   "execution_count": null,
   "source": [
    "op_hover"
   ],
   "outputs": [],
   "metadata": {}
  },
  {
   "cell_type": "code",
   "execution_count": null,
   "source": [
    "op_hover_auto = dict(op_hover)\n",
    "op_hover_auto['ic/theta-deg'] = 0\n",
    "op_hover_auto['ic/phi-deg'] = 0\n",
    "op_hover_auto['ic/h-agl-ft'] = 60\n",
    "\n",
    "op_hover_auto['ap/heading-cmd-deg'] = 280\n",
    "op_hover_auto['ap/gear-enable'] = 1\n",
    "op_hover_auto['ap/roll-enable'] = 0\n",
    "op_hover_auto['ap/pitch-enable'] = 1\n",
    "op_hover_auto['ap/yaw-enable'] = 0\n",
    "op_hover_auto['ap/h-enable'] = 1\n",
    "op_hover_auto['ap/h-sl-cmd-ft'] = 700\n",
    "\n",
    "log_hover_auto = simulate(\n",
    "    aircraft='F-35B-2',\n",
    "    op_0=op_hover_auto,\n",
    "    tf=50,\n",
    "    realtime=False, verbose=True)"
   ],
   "outputs": [],
   "metadata": {}
  },
  {
   "cell_type": "code",
   "execution_count": null,
   "source": [
    "log_hover_auto['fcs/throttle-pos-norm'].plot(label='0')\n",
    "log_hover_auto['fcs/throttle-pos-norm[1]'].plot(label='1')\n",
    "log_hover_auto['fcs/throttle-pos-norm[2]'].plot(label='2')\n",
    "log_hover_auto['fcs/throttle-pos-norm[3]'].plot(label='3')\n",
    "\n",
    "plt.legend()"
   ],
   "outputs": [],
   "metadata": {}
  },
  {
   "cell_type": "code",
   "execution_count": null,
   "source": [
    "log_hover_auto['ap/h-error'].plot()"
   ],
   "outputs": [],
   "metadata": {}
  },
  {
   "cell_type": "markdown",
   "source": [
    "## Transition"
   ],
   "metadata": {}
  },
  {
   "cell_type": "markdown",
   "source": [
    "## Cruise Trim"
   ],
   "metadata": {}
  },
  {
   "cell_type": "code",
   "execution_count": null,
   "source": [
    "op_cruise, props = trim(\n",
    "    aircraft=aircraft_model,\n",
    "    ic={\n",
    "        'ic/gamma-deg': 0,\n",
    "        'ic/vt-fps': 600,\n",
    "        'ic/h-sl-ft': 10000,\n",
    "        'gear/gear-cmd-norm': 0,\n",
    "        'fcs/left-brake-cmd-norm': 0,\n",
    "        'fcs/right-brake-cmd-norm': 0,\n",
    "        'fcs/center-brake-cmd-norm': 0,\n",
    "        'propulsion/engine/pitch-angle-rad': 0,\n",
    "    },\n",
    "    design_vector=[\n",
    "        'fcs/throttle-cmd-norm',\n",
    "        'fcs/elevator-cmd-norm',\n",
    "        'fcs/rudder-cmd-norm',\n",
    "        'fcs/aileron-cmd-norm',\n",
    "        'ic/alpha-rad',\n",
    "        'ic/beta-rad',\n",
    "    ],\n",
    "    method='SLSQP',\n",
    "    eq_constraints= [\n",
    "        lambda fdm: fdm['accelerations/udot-ft_sec2'],\n",
    "        lambda fdm: fdm['accelerations/vdot-ft_sec2'],\n",
    "        lambda fdm: fdm['accelerations/wdot-ft_sec2'],\n",
    "        lambda fdm: fdm['accelerations/pdot-rad_sec2'],\n",
    "        lambda fdm: fdm['accelerations/qdot-rad_sec2'],\n",
    "        lambda fdm: fdm['accelerations/rdot-rad_sec2'],\n",
    "    ],\n",
    "    cost=lambda fdm: fdm['fcs/throttle-cmd-norm'],\n",
    "    x0=[0.5, 0, 0, 0, 0, 0],\n",
    "    verbose=False,\n",
    "    bounds=[[0, 1], [-1, 1], [-1, 1], [-1, 1], [-1, 1], [-1, 1]],\n",
    "    tol=1e-3\n",
    ")\n",
    "op_cruise"
   ],
   "outputs": [],
   "metadata": {}
  },
  {
   "cell_type": "code",
   "execution_count": null,
   "source": [
    "log_cruise = simulate(\n",
    "    aircraft='F-35B-2',\n",
    "    op_0=op_cruise,\n",
    "    tf=10,\n",
    "    realtime=False)"
   ],
   "outputs": [],
   "metadata": {}
  },
  {
   "cell_type": "code",
   "execution_count": null,
   "source": [
    "op_cruise_auto = dict(op_cruise)\n",
    "#op_cruise_auto['ic/theta-deg'] = 0\n",
    "#op_cruise_auto['ic/phi-deg'] = 0\n",
    "op_cruise_auto['ap/roll-enable'] = 1\n",
    "op_cruise_auto['ap/pitch-enable'] = 1\n",
    "op_cruise_auto['ap/yaw-enable'] = 1\n",
    "op_cruise_auto['ap/h-enable'] = 1\n",
    "op_cruise_auto['ap/heading-cmd-deg'] = 260\n",
    "op_cruise_auto['ap/h-sl-cmd-ft'] = 10000\n",
    "\n",
    "log_cruise_auto = simulate(\n",
    "    aircraft='F-35B-2',\n",
    "    op_0=op_cruise_auto,\n",
    "    tf=40,\n",
    "    realtime=False)"
   ],
   "outputs": [],
   "metadata": {}
  }
 ],
 "metadata": {
  "kernelspec": {
   "display_name": "Python 3 (ipykernel)",
   "language": "python",
   "name": "python3"
  },
  "language_info": {
   "name": "python",
   "version": "3.9.6",
   "mimetype": "text/x-python",
   "codemirror_mode": {
    "name": "ipython",
    "version": 3
   },
   "pygments_lexer": "ipython3",
   "nbconvert_exporter": "python",
   "file_extension": ".py"
  }
 },
 "nbformat": 4,
 "nbformat_minor": 5
}