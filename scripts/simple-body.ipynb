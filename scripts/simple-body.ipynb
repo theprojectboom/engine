{
 "cells": [
  {
   "cell_type": "markdown",
   "source": [
    "# Simple, Phase 1, approximate flight profile simulation"
   ],
   "metadata": {}
  },
  {
   "cell_type": "code",
   "execution_count": 75,
   "source": [
    "import numpy as np\n",
    "import pandas as pd\n",
    "import matplotlib.pyplot as plt\n",
    "import control\n",
    "\n",
    "# Purdue AA451 library\n",
    "from scripts.jsbsim_utils import Logger, trim, simulate, linearize, rootlocus, clean_tf"
   ],
   "outputs": [],
   "metadata": {}
  },
  {
   "cell_type": "code",
   "execution_count": 76,
   "source": [
    "aircraft_model = 'WaveRipper'"
   ],
   "outputs": [],
   "metadata": {}
  },
  {
   "cell_type": "markdown",
   "source": [
    "# Ground Trim"
   ],
   "metadata": {}
  },
  {
   "cell_type": "code",
   "execution_count": 77,
   "source": [
    "op_ground, props = trim(\n",
    "    aircraft=aircraft_model,\n",
    "    ic={\n",
    "        'ic/vt-fps': 0,\n",
    "        'ic/h-agl-ft': 5,\n",
    "        'ic/psi-true-deg': 280,\n",
    "        'fcs/left-brake-cmd-norm': 1,\n",
    "        'fcs/right-brake-cmd-norm': 1,\n",
    "        'fcs/center-brake-cmd-norm': 1,\n",
    "    },\n",
    "    design_vector=['ic/theta-rad', 'ic/h-agl-ft'],\n",
    "    x0=[0, 0],\n",
    "    verbose=True,\n",
    "    method='Nelder-Mead', # works better with ground interaction\n",
    "    ftol=1e-2,\n",
    ")\n",
    "op_ground"
   ],
   "outputs": [
    {
     "output_type": "stream",
     "name": "stdout",
     "text": [
      " final_simplex: (array([[-0.06305111,  0.17624348],\n",
      "       [-0.06304254,  0.17621589],\n",
      "       [-0.06305026,  0.17623362]]), array([476.00195821, 476.00200089, 476.00205581]))\n",
      "           fun: 476.0019582057659\n",
      "       message: 'Optimization terminated successfully.'\n",
      "          nfev: 106\n",
      "           nit: 57\n",
      "        status: 0\n",
      "       success: True\n",
      "             x: array([-0.06305111,  0.17624348])\n"
     ]
    },
    {
     "output_type": "stream",
     "name": "stderr",
     "text": [
      "\n",
      "In file /Users/dev273/workfolder/boom/engine/aircraft/WaveRipper/WaveRipper.xml: line 155\n",
      "\u001b[31m<product> only has one argument which makes it a no-op.\n",
      "Its argument will be evaluated but <product> will not be applied to the result.\u001b[0m\n",
      "\n",
      "In file /Users/dev273/workfolder/boom/engine/aircraft/WaveRipper/WaveRipper.xml: line 175\n",
      "\u001b[31m<product> only has one argument which makes it a no-op.\n",
      "Its argument will be evaluated but <product> will not be applied to the result.\u001b[0m\n",
      "\n",
      "In file /Users/dev273/workfolder/boom/engine/aircraft/WaveRipper/WaveRipper.xml: line 186\n",
      "\u001b[31m<product> only has one argument which makes it a no-op.\n",
      "Its argument will be evaluated but <product> will not be applied to the result.\u001b[0m\n",
      "\n",
      "In file /Users/dev273/workfolder/boom/engine/aircraft/WaveRipper/WaveRipper.xml: line 198\n",
      "\u001b[31m<product> only has one argument which makes it a no-op.\n",
      "Its argument will be evaluated but <product> will not be applied to the result.\u001b[0m\n",
      "\n",
      "In file /Users/dev273/workfolder/boom/engine/aircraft/WaveRipper/WaveRipper.xml: line 208\n",
      "\u001b[31m<product> only has one argument which makes it a no-op.\n",
      "Its argument will be evaluated but <product> will not be applied to the result.\u001b[0m\n",
      "\n",
      "In file /Users/dev273/workfolder/boom/engine/aircraft/WaveRipper/WaveRipper.xml: line 219\n",
      "\u001b[31m<product> only has one argument which makes it a no-op.\n",
      "Its argument will be evaluated but <product> will not be applied to the result.\u001b[0m\n",
      "\n",
      "In file /Users/dev273/workfolder/boom/engine/aircraft/WaveRipper/WaveRipper.xml: line 230\n",
      "\u001b[31m<product> only has one argument which makes it a no-op.\n",
      "Its argument will be evaluated but <product> will not be applied to the result.\u001b[0m\n",
      "\n",
      "In file /Users/dev273/workfolder/boom/engine/aircraft/WaveRipper/WaveRipper.xml: line 240\n",
      "\u001b[31m<product> only has one argument which makes it a no-op.\n",
      "Its argument will be evaluated but <product> will not be applied to the result.\u001b[0m\n",
      "\n",
      "In file /Users/dev273/workfolder/boom/engine/aircraft/WaveRipper/WaveRipper.xml: line 253\n",
      "\u001b[31m<product> only has one argument which makes it a no-op.\n",
      "Its argument will be evaluated but <product> will not be applied to the result.\u001b[0m\n",
      "\n",
      "In file /Users/dev273/workfolder/boom/engine/aircraft/WaveRipper/WaveRipper.xml: line 300\n",
      "\u001b[31m<product> only has one argument which makes it a no-op.\n",
      "Its argument will be evaluated but <product> will not be applied to the result.\u001b[0m\n",
      "\n",
      "In file /Users/dev273/workfolder/boom/engine/aircraft/WaveRipper/WaveRipper.xml: line 310\n",
      "\u001b[31m<product> only has one argument which makes it a no-op.\n",
      "Its argument will be evaluated but <product> will not be applied to the result.\u001b[0m\n",
      "\n",
      "In file /Users/dev273/workfolder/boom/engine/aircraft/WaveRipper/WaveRipper.xml: line 321\n",
      "\u001b[31m<product> only has one argument which makes it a no-op.\n",
      "Its argument will be evaluated but <product> will not be applied to the result.\u001b[0m\n",
      "\n",
      "In file /Users/dev273/workfolder/boom/engine/aircraft/WaveRipper/WaveRipper.xml: line 331\n",
      "\u001b[31m<product> only has one argument which makes it a no-op.\n",
      "Its argument will be evaluated but <product> will not be applied to the result.\u001b[0m\n"
     ]
    },
    {
     "output_type": "error",
     "ename": "RuntimeError",
     "evalue": "trim failed:\n final_simplex: (array([[-0.06305111,  0.17624348],\n       [-0.06304254,  0.17621589],\n       [-0.06305026,  0.17623362]]), array([476.00195821, 476.00200089, 476.00205581]))\n           fun: 476.0019582057659\n       message: 'Optimization terminated successfully.'\n          nfev: 106\n           nit: 57\n        status: 0\n       success: True\n             x: array([-0.06305111,  0.17624348])\n{'accelerations/a-pilot-x-ft_sec2': -1.1887984221204722, 'accelerations/a-pilot-y-ft_sec2': -1.5877559249554671, 'accelerations/a-pilot-z-ft_sec2': -21.075090116438524, 'accelerations/n-pilot-x-norm': -0.03694898452196417, 'accelerations/n-pilot-y-norm': -0.049348962788151554, 'accelerations/n-pilot-z-norm': -0.6550338257703153, 'accelerations/Nx': -0.03694898414513271, 'accelerations/Ny': 0.012089443581904002, 'accelerations/Nz': 0.698537845313642, 'accelerations/pdot-rad_sec2': 19.53253661033347, 'accelerations/qdot-rad_sec2': -0.6087917782359302, 'accelerations/rdot-rad_sec2': -0.8597641563914715, 'accelerations/udot-ft_sec2': 0.8371410653344071, 'accelerations/vdot-ft_sec2': 0.38896936270718196, 'accelerations/wdot-ft_sec2': 9.61868443684593, 'accelerations/gravity-ft_sec2': 32.22200606778288}",
     "traceback": [
      "\u001b[0;31m---------------------------------------------------------------------------\u001b[0m",
      "\u001b[0;31mRuntimeError\u001b[0m                              Traceback (most recent call last)",
      "\u001b[0;32m/var/folders/0y/ty6zvtq53lq_qltzlh53bf6w0000gn/T/ipykernel_27249/467642672.py\u001b[0m in \u001b[0;36m<module>\u001b[0;34m\u001b[0m\n\u001b[0;32m----> 1\u001b[0;31m op_ground, props = trim(\n\u001b[0m\u001b[1;32m      2\u001b[0m     \u001b[0maircraft\u001b[0m\u001b[0;34m=\u001b[0m\u001b[0maircraft_model\u001b[0m\u001b[0;34m,\u001b[0m\u001b[0;34m\u001b[0m\u001b[0;34m\u001b[0m\u001b[0m\n\u001b[1;32m      3\u001b[0m     ic={\n\u001b[1;32m      4\u001b[0m         \u001b[0;34m'ic/vt-fps'\u001b[0m\u001b[0;34m:\u001b[0m \u001b[0;36m0\u001b[0m\u001b[0;34m,\u001b[0m\u001b[0;34m\u001b[0m\u001b[0;34m\u001b[0m\u001b[0m\n\u001b[1;32m      5\u001b[0m         \u001b[0;34m'ic/h-agl-ft'\u001b[0m\u001b[0;34m:\u001b[0m \u001b[0;36m5\u001b[0m\u001b[0;34m,\u001b[0m\u001b[0;34m\u001b[0m\u001b[0;34m\u001b[0m\u001b[0m\n",
      "\u001b[0;32m~/workfolder/boom/engine/scripts/jsbsim_utils.py\u001b[0m in \u001b[0;36mtrim\u001b[0;34m(aircraft, ic, design_vector, x0, verbose, cost, eq_constraints, tol, ftol, show, **kwargs)\u001b[0m\n\u001b[1;32m    121\u001b[0m         \u001b[0;32mfor\u001b[0m \u001b[0mcon\u001b[0m \u001b[0;32min\u001b[0m \u001b[0mconstraints\u001b[0m\u001b[0;34m:\u001b[0m\u001b[0;34m\u001b[0m\u001b[0;34m\u001b[0m\u001b[0m\n\u001b[1;32m    122\u001b[0m             \u001b[0mprint\u001b[0m\u001b[0;34m(\u001b[0m\u001b[0;34m'constraint'\u001b[0m\u001b[0;34m,\u001b[0m \u001b[0mcon\u001b[0m\u001b[0;34m[\u001b[0m\u001b[0;34m'type'\u001b[0m\u001b[0;34m]\u001b[0m\u001b[0;34m,\u001b[0m \u001b[0mcon\u001b[0m\u001b[0;34m[\u001b[0m\u001b[0;34m'fun'\u001b[0m\u001b[0;34m]\u001b[0m\u001b[0;34m(\u001b[0m\u001b[0mres\u001b[0m\u001b[0;34m[\u001b[0m\u001b[0;34m'x'\u001b[0m\u001b[0;34m]\u001b[0m\u001b[0;34m,\u001b[0m \u001b[0;34m*\u001b[0m\u001b[0mcon\u001b[0m\u001b[0;34m[\u001b[0m\u001b[0;34m'args'\u001b[0m\u001b[0;34m]\u001b[0m\u001b[0;34m)\u001b[0m\u001b[0;34m)\u001b[0m\u001b[0;34m\u001b[0m\u001b[0;34m\u001b[0m\u001b[0m\n\u001b[0;32m--> 123\u001b[0;31m \u001b[0;34m\u001b[0m\u001b[0m\n\u001b[0m\u001b[1;32m    124\u001b[0m     \u001b[0;32mif\u001b[0m \u001b[0;32mnot\u001b[0m \u001b[0mres\u001b[0m\u001b[0;34m[\u001b[0m\u001b[0;34m'success'\u001b[0m\u001b[0;34m]\u001b[0m \u001b[0;32mor\u001b[0m \u001b[0mftol\u001b[0m \u001b[0;32mis\u001b[0m \u001b[0;32mnot\u001b[0m \u001b[0;32mNone\u001b[0m \u001b[0;32mand\u001b[0m \u001b[0mabs\u001b[0m\u001b[0;34m(\u001b[0m\u001b[0mres\u001b[0m\u001b[0;34m[\u001b[0m\u001b[0;34m'fun'\u001b[0m\u001b[0;34m]\u001b[0m\u001b[0;34m)\u001b[0m \u001b[0;34m>\u001b[0m \u001b[0mftol\u001b[0m\u001b[0;34m:\u001b[0m\u001b[0;34m\u001b[0m\u001b[0;34m\u001b[0m\u001b[0m\n\u001b[1;32m    125\u001b[0m         raise RuntimeError('trim failed:\\n' + str(res) + '\\n' + \\\n",
      "\u001b[0;31mRuntimeError\u001b[0m: trim failed:\n final_simplex: (array([[-0.06305111,  0.17624348],\n       [-0.06304254,  0.17621589],\n       [-0.06305026,  0.17623362]]), array([476.00195821, 476.00200089, 476.00205581]))\n           fun: 476.0019582057659\n       message: 'Optimization terminated successfully.'\n          nfev: 106\n           nit: 57\n        status: 0\n       success: True\n             x: array([-0.06305111,  0.17624348])\n{'accelerations/a-pilot-x-ft_sec2': -1.1887984221204722, 'accelerations/a-pilot-y-ft_sec2': -1.5877559249554671, 'accelerations/a-pilot-z-ft_sec2': -21.075090116438524, 'accelerations/n-pilot-x-norm': -0.03694898452196417, 'accelerations/n-pilot-y-norm': -0.049348962788151554, 'accelerations/n-pilot-z-norm': -0.6550338257703153, 'accelerations/Nx': -0.03694898414513271, 'accelerations/Ny': 0.012089443581904002, 'accelerations/Nz': 0.698537845313642, 'accelerations/pdot-rad_sec2': 19.53253661033347, 'accelerations/qdot-rad_sec2': -0.6087917782359302, 'accelerations/rdot-rad_sec2': -0.8597641563914715, 'accelerations/udot-ft_sec2': 0.8371410653344071, 'accelerations/vdot-ft_sec2': 0.38896936270718196, 'accelerations/wdot-ft_sec2': 9.61868443684593, 'accelerations/gravity-ft_sec2': 32.22200606778288}"
     ]
    }
   ],
   "metadata": {}
  },
  {
   "cell_type": "code",
   "execution_count": 78,
   "source": [
    "op_ground"
   ],
   "outputs": [
    {
     "output_type": "execute_result",
     "data": {
      "text/plain": [
       "{'ic/vt-fps': 0,\n",
       " 'ic/h-agl-ft': -0.01984969996708967,\n",
       " 'ic/psi-true-deg': 280,\n",
       " 'fcs/left-brake-cmd-norm': 1,\n",
       " 'fcs/right-brake-cmd-norm': 1,\n",
       " 'fcs/center-brake-cmd-norm': 1,\n",
       " 'ic/theta-rad': -0.0039841619774816615}"
      ]
     },
     "metadata": {},
     "execution_count": 78
    }
   ],
   "metadata": {}
  },
  {
   "cell_type": "code",
   "execution_count": 79,
   "source": [
    "log_ground = simulate(\n",
    "    aircraft=aircraft_model,\n",
    "    op_0=op_ground,\n",
    "    tf=5,\n",
    "    realtime=False, verbose=True)"
   ],
   "outputs": [
    {
     "output_type": "stream",
     "name": "stderr",
     "text": [
      "\n",
      "In file /Users/dev273/workfolder/boom/engine/aircraft/WaveRipper/WaveRipper.xml: line 155\n",
      "\u001b[31m<product> only has one argument which makes it a no-op.\n",
      "Its argument will be evaluated but <product> will not be applied to the result.\u001b[0m\n",
      "\n",
      "In file /Users/dev273/workfolder/boom/engine/aircraft/WaveRipper/WaveRipper.xml: line 175\n",
      "\u001b[31m<product> only has one argument which makes it a no-op.\n",
      "Its argument will be evaluated but <product> will not be applied to the result.\u001b[0m\n",
      "\n",
      "In file /Users/dev273/workfolder/boom/engine/aircraft/WaveRipper/WaveRipper.xml: line 186\n",
      "\u001b[31m<product> only has one argument which makes it a no-op.\n",
      "Its argument will be evaluated but <product> will not be applied to the result.\u001b[0m\n",
      "\n",
      "In file /Users/dev273/workfolder/boom/engine/aircraft/WaveRipper/WaveRipper.xml: line 198\n",
      "\u001b[31m<product> only has one argument which makes it a no-op.\n",
      "Its argument will be evaluated but <product> will not be applied to the result.\u001b[0m\n",
      "\n",
      "In file /Users/dev273/workfolder/boom/engine/aircraft/WaveRipper/WaveRipper.xml: line 208\n",
      "\u001b[31m<product> only has one argument which makes it a no-op.\n",
      "Its argument will be evaluated but <product> will not be applied to the result.\u001b[0m\n",
      "\n",
      "In file /Users/dev273/workfolder/boom/engine/aircraft/WaveRipper/WaveRipper.xml: line 219\n",
      "\u001b[31m<product> only has one argument which makes it a no-op.\n",
      "Its argument will be evaluated but <product> will not be applied to the result.\u001b[0m\n",
      "\n",
      "In file /Users/dev273/workfolder/boom/engine/aircraft/WaveRipper/WaveRipper.xml: line 230\n",
      "\u001b[31m<product> only has one argument which makes it a no-op.\n",
      "Its argument will be evaluated but <product> will not be applied to the result.\u001b[0m\n",
      "\n",
      "In file /Users/dev273/workfolder/boom/engine/aircraft/WaveRipper/WaveRipper.xml: line 240\n",
      "\u001b[31m<product> only has one argument which makes it a no-op.\n",
      "Its argument will be evaluated but <product> will not be applied to the result.\u001b[0m\n",
      "\n",
      "In file /Users/dev273/workfolder/boom/engine/aircraft/WaveRipper/WaveRipper.xml: line 253\n",
      "\u001b[31m<product> only has one argument which makes it a no-op.\n",
      "Its argument will be evaluated but <product> will not be applied to the result.\u001b[0m\n",
      "\n",
      "In file /Users/dev273/workfolder/boom/engine/aircraft/WaveRipper/WaveRipper.xml: line 300\n",
      "\u001b[31m<product> only has one argument which makes it a no-op.\n",
      "Its argument will be evaluated but <product> will not be applied to the result.\u001b[0m\n",
      "\n",
      "In file /Users/dev273/workfolder/boom/engine/aircraft/WaveRipper/WaveRipper.xml: line 310\n",
      "\u001b[31m<product> only has one argument which makes it a no-op.\n",
      "Its argument will be evaluated but <product> will not be applied to the result.\u001b[0m\n",
      "\n",
      "In file /Users/dev273/workfolder/boom/engine/aircraft/WaveRipper/WaveRipper.xml: line 321\n",
      "\u001b[31m<product> only has one argument which makes it a no-op.\n",
      "Its argument will be evaluated but <product> will not be applied to the result.\u001b[0m\n",
      "\n",
      "In file /Users/dev273/workfolder/boom/engine/aircraft/WaveRipper/WaveRipper.xml: line 331\n",
      "\u001b[31m<product> only has one argument which makes it a no-op.\n",
      "Its argument will be evaluated but <product> will not be applied to the result.\u001b[0m\n"
     ]
    }
   ],
   "metadata": {}
  },
  {
   "cell_type": "markdown",
   "source": [
    "## Hover Trim"
   ],
   "metadata": {}
  },
  {
   "cell_type": "code",
   "execution_count": 88,
   "source": [
    "op_hover, props = trim(\n",
    "    aircraft=aircraft_model,\n",
    "    # For a list of initial conditions available:\n",
    "    # https://jsbsim-team.github.io/jsbsim/classJSBSim_1_1FGInitialCondition.html\n",
    "    ic={\n",
    "        'ic/h-sl-ft': 650,      # Height above sea level initial condition in feet\n",
    "        'ic/vt-fps': 500,       # True airspeed initial condition in feet/second\n",
    "        'ic/psi-true-deg': 280, # Heading angle initial condition in degrees\n",
    "    },\n",
    "    eq_constraints = [\n",
    "        lambda fdm: fdm['accelerations/udot-ft_sec2'],\n",
    "        # lambda fdm: fdm['accelerations/vdot-ft_sec2'],\n",
    "        lambda fdm: fdm['accelerations/wdot-ft_sec2'],\n",
    "        # lambda fdm: fdm['accelerations/pdot-rad_sec2'],\n",
    "    ],\n",
    "    design_vector=[\n",
    "        'fcs/throttle-cmd-norm',\n",
    "        'fcs/elevator-cmd-norm',\n",
    "    ],\n",
    "    x0=[0.9],\n",
    "    cost= lambda fdm: fdm['fcs/throttle-cmd-norm'],\n",
    "    verbose=True,\n",
    "    method='SLSQP',\n",
    "    # method=\"cobyla\",\n",
    "    # bounds=[[0, 1]],\n",
    "    bounds=[[0, 1], [-1, 1]],\n",
    ")\n",
    "op_hover"
   ],
   "outputs": [
    {
     "output_type": "stream",
     "name": "stdout",
     "text": [
      "     fun: 0.9\n",
      "     jac: array([1., 0.])\n",
      " message: 'Inequality constraints incompatible'\n",
      "    nfev: 57\n",
      "     nit: 6\n",
      "    njev: 6\n",
      "  status: 4\n",
      " success: False\n",
      "       x: array([ 0.9       , -0.15950893])\n",
      "constraint eq 42.751376462883385\n",
      "constraint eq 28.344075612647305\n"
     ]
    },
    {
     "output_type": "stream",
     "name": "stderr",
     "text": [
      "\n",
      "In file /Users/dev273/workfolder/boom/engine/aircraft/WaveRipper/WaveRipper.xml: line 155\n",
      "\u001b[31m<product> only has one argument which makes it a no-op.\n",
      "Its argument will be evaluated but <product> will not be applied to the result.\u001b[0m\n",
      "\n",
      "In file /Users/dev273/workfolder/boom/engine/aircraft/WaveRipper/WaveRipper.xml: line 175\n",
      "\u001b[31m<product> only has one argument which makes it a no-op.\n",
      "Its argument will be evaluated but <product> will not be applied to the result.\u001b[0m\n",
      "\n",
      "In file /Users/dev273/workfolder/boom/engine/aircraft/WaveRipper/WaveRipper.xml: line 186\n",
      "\u001b[31m<product> only has one argument which makes it a no-op.\n",
      "Its argument will be evaluated but <product> will not be applied to the result.\u001b[0m\n",
      "\n",
      "In file /Users/dev273/workfolder/boom/engine/aircraft/WaveRipper/WaveRipper.xml: line 198\n",
      "\u001b[31m<product> only has one argument which makes it a no-op.\n",
      "Its argument will be evaluated but <product> will not be applied to the result.\u001b[0m\n",
      "\n",
      "In file /Users/dev273/workfolder/boom/engine/aircraft/WaveRipper/WaveRipper.xml: line 208\n",
      "\u001b[31m<product> only has one argument which makes it a no-op.\n",
      "Its argument will be evaluated but <product> will not be applied to the result.\u001b[0m\n",
      "\n",
      "In file /Users/dev273/workfolder/boom/engine/aircraft/WaveRipper/WaveRipper.xml: line 219\n",
      "\u001b[31m<product> only has one argument which makes it a no-op.\n",
      "Its argument will be evaluated but <product> will not be applied to the result.\u001b[0m\n",
      "\n",
      "In file /Users/dev273/workfolder/boom/engine/aircraft/WaveRipper/WaveRipper.xml: line 230\n",
      "\u001b[31m<product> only has one argument which makes it a no-op.\n",
      "Its argument will be evaluated but <product> will not be applied to the result.\u001b[0m\n",
      "\n",
      "In file /Users/dev273/workfolder/boom/engine/aircraft/WaveRipper/WaveRipper.xml: line 240\n",
      "\u001b[31m<product> only has one argument which makes it a no-op.\n",
      "Its argument will be evaluated but <product> will not be applied to the result.\u001b[0m\n",
      "\n",
      "In file /Users/dev273/workfolder/boom/engine/aircraft/WaveRipper/WaveRipper.xml: line 253\n",
      "\u001b[31m<product> only has one argument which makes it a no-op.\n",
      "Its argument will be evaluated but <product> will not be applied to the result.\u001b[0m\n",
      "\n",
      "In file /Users/dev273/workfolder/boom/engine/aircraft/WaveRipper/WaveRipper.xml: line 300\n",
      "\u001b[31m<product> only has one argument which makes it a no-op.\n",
      "Its argument will be evaluated but <product> will not be applied to the result.\u001b[0m\n",
      "\n",
      "In file /Users/dev273/workfolder/boom/engine/aircraft/WaveRipper/WaveRipper.xml: line 310\n",
      "\u001b[31m<product> only has one argument which makes it a no-op.\n",
      "Its argument will be evaluated but <product> will not be applied to the result.\u001b[0m\n",
      "\n",
      "In file /Users/dev273/workfolder/boom/engine/aircraft/WaveRipper/WaveRipper.xml: line 321\n",
      "\u001b[31m<product> only has one argument which makes it a no-op.\n",
      "Its argument will be evaluated but <product> will not be applied to the result.\u001b[0m\n",
      "\n",
      "In file /Users/dev273/workfolder/boom/engine/aircraft/WaveRipper/WaveRipper.xml: line 331\n",
      "\u001b[31m<product> only has one argument which makes it a no-op.\n",
      "Its argument will be evaluated but <product> will not be applied to the result.\u001b[0m\n"
     ]
    },
    {
     "output_type": "error",
     "ename": "RuntimeError",
     "evalue": "trim failed:\n     fun: 0.9\n     jac: array([1., 0.])\n message: 'Inequality constraints incompatible'\n    nfev: 57\n     nit: 6\n    njev: 6\n  status: 4\n success: False\n       x: array([ 0.9       , -0.15950893])\n{'accelerations/a-pilot-x-ft_sec2': 42.751376007872054, 'accelerations/a-pilot-y-ft_sec2': -4.767527641235084, 'accelerations/a-pilot-z-ft_sec2': 12.3342143428962, 'accelerations/n-pilot-x-norm': 1.328753387466607, 'accelerations/n-pilot-y-norm': -0.1481792890587972, 'accelerations/n-pilot-z-norm': 0.383359101396987, 'accelerations/Nx': 1.3287533878399505, 'accelerations/Ny': -0.024112211633490973, 'accelerations/Nz': 0.12021376293816591, 'accelerations/pdot-rad_sec2': 39.14146800258483, 'accelerations/qdot-rad_sec2': -7.046958479424707, 'accelerations/rdot-rad_sec2': -1.736184781606401, 'accelerations/udot-ft_sec2': 42.751376462883385, 'accelerations/vdot-ft_sec2': -0.7285126257484911, 'accelerations/wdot-ft_sec2': 28.344075612647305, 'accelerations/gravity-ft_sec2': 32.221809332708204}",
     "traceback": [
      "\u001b[0;31m---------------------------------------------------------------------------\u001b[0m",
      "\u001b[0;31mRuntimeError\u001b[0m                              Traceback (most recent call last)",
      "\u001b[0;32m/var/folders/0y/ty6zvtq53lq_qltzlh53bf6w0000gn/T/ipykernel_27249/66356430.py\u001b[0m in \u001b[0;36m<module>\u001b[0;34m\u001b[0m\n\u001b[0;32m----> 1\u001b[0;31m op_hover, props = trim(\n\u001b[0m\u001b[1;32m      2\u001b[0m     \u001b[0maircraft\u001b[0m\u001b[0;34m=\u001b[0m\u001b[0maircraft_model\u001b[0m\u001b[0;34m,\u001b[0m\u001b[0;34m\u001b[0m\u001b[0;34m\u001b[0m\u001b[0m\n\u001b[1;32m      3\u001b[0m     \u001b[0;31m# For a list of initial conditions available:\u001b[0m\u001b[0;34m\u001b[0m\u001b[0;34m\u001b[0m\u001b[0;34m\u001b[0m\u001b[0m\n\u001b[1;32m      4\u001b[0m     \u001b[0;31m# https://jsbsim-team.github.io/jsbsim/classJSBSim_1_1FGInitialCondition.html\u001b[0m\u001b[0;34m\u001b[0m\u001b[0;34m\u001b[0m\u001b[0;34m\u001b[0m\u001b[0m\n\u001b[1;32m      5\u001b[0m     ic={\n",
      "\u001b[0;32m~/workfolder/boom/engine/scripts/jsbsim_utils.py\u001b[0m in \u001b[0;36mtrim\u001b[0;34m(aircraft, ic, design_vector, x0, verbose, cost, eq_constraints, tol, ftol, show, **kwargs)\u001b[0m\n\u001b[1;32m    121\u001b[0m         \u001b[0;32mfor\u001b[0m \u001b[0mcon\u001b[0m \u001b[0;32min\u001b[0m \u001b[0mconstraints\u001b[0m\u001b[0;34m:\u001b[0m\u001b[0;34m\u001b[0m\u001b[0;34m\u001b[0m\u001b[0m\n\u001b[1;32m    122\u001b[0m             \u001b[0mprint\u001b[0m\u001b[0;34m(\u001b[0m\u001b[0;34m'constraint'\u001b[0m\u001b[0;34m,\u001b[0m \u001b[0mcon\u001b[0m\u001b[0;34m[\u001b[0m\u001b[0;34m'type'\u001b[0m\u001b[0;34m]\u001b[0m\u001b[0;34m,\u001b[0m \u001b[0mcon\u001b[0m\u001b[0;34m[\u001b[0m\u001b[0;34m'fun'\u001b[0m\u001b[0;34m]\u001b[0m\u001b[0;34m(\u001b[0m\u001b[0mres\u001b[0m\u001b[0;34m[\u001b[0m\u001b[0;34m'x'\u001b[0m\u001b[0;34m]\u001b[0m\u001b[0;34m,\u001b[0m \u001b[0;34m*\u001b[0m\u001b[0mcon\u001b[0m\u001b[0;34m[\u001b[0m\u001b[0;34m'args'\u001b[0m\u001b[0;34m]\u001b[0m\u001b[0;34m)\u001b[0m\u001b[0;34m)\u001b[0m\u001b[0;34m\u001b[0m\u001b[0;34m\u001b[0m\u001b[0m\n\u001b[0;32m--> 123\u001b[0;31m \u001b[0;34m\u001b[0m\u001b[0m\n\u001b[0m\u001b[1;32m    124\u001b[0m     \u001b[0;32mif\u001b[0m \u001b[0;32mnot\u001b[0m \u001b[0mres\u001b[0m\u001b[0;34m[\u001b[0m\u001b[0;34m'success'\u001b[0m\u001b[0;34m]\u001b[0m \u001b[0;32mor\u001b[0m \u001b[0mftol\u001b[0m \u001b[0;32mis\u001b[0m \u001b[0;32mnot\u001b[0m \u001b[0;32mNone\u001b[0m \u001b[0;32mand\u001b[0m \u001b[0mabs\u001b[0m\u001b[0;34m(\u001b[0m\u001b[0mres\u001b[0m\u001b[0;34m[\u001b[0m\u001b[0;34m'fun'\u001b[0m\u001b[0;34m]\u001b[0m\u001b[0;34m)\u001b[0m \u001b[0;34m>\u001b[0m \u001b[0mftol\u001b[0m\u001b[0;34m:\u001b[0m\u001b[0;34m\u001b[0m\u001b[0;34m\u001b[0m\u001b[0m\n\u001b[1;32m    125\u001b[0m         raise RuntimeError('trim failed:\\n' + str(res) + '\\n' + \\\n",
      "\u001b[0;31mRuntimeError\u001b[0m: trim failed:\n     fun: 0.9\n     jac: array([1., 0.])\n message: 'Inequality constraints incompatible'\n    nfev: 57\n     nit: 6\n    njev: 6\n  status: 4\n success: False\n       x: array([ 0.9       , -0.15950893])\n{'accelerations/a-pilot-x-ft_sec2': 42.751376007872054, 'accelerations/a-pilot-y-ft_sec2': -4.767527641235084, 'accelerations/a-pilot-z-ft_sec2': 12.3342143428962, 'accelerations/n-pilot-x-norm': 1.328753387466607, 'accelerations/n-pilot-y-norm': -0.1481792890587972, 'accelerations/n-pilot-z-norm': 0.383359101396987, 'accelerations/Nx': 1.3287533878399505, 'accelerations/Ny': -0.024112211633490973, 'accelerations/Nz': 0.12021376293816591, 'accelerations/pdot-rad_sec2': 39.14146800258483, 'accelerations/qdot-rad_sec2': -7.046958479424707, 'accelerations/rdot-rad_sec2': -1.736184781606401, 'accelerations/udot-ft_sec2': 42.751376462883385, 'accelerations/vdot-ft_sec2': -0.7285126257484911, 'accelerations/wdot-ft_sec2': 28.344075612647305, 'accelerations/gravity-ft_sec2': 32.221809332708204}"
     ]
    }
   ],
   "metadata": {}
  },
  {
   "cell_type": "code",
   "execution_count": null,
   "source": [
    "log_hover = simulate(\n",
    "    aircraft=aircraft_model,\n",
    "    op_0=op_hover,\n",
    "    tf=10,\n",
    "    realtime=False)"
   ],
   "outputs": [],
   "metadata": {}
  },
  {
   "cell_type": "code",
   "execution_count": null,
   "source": [
    "op_hover"
   ],
   "outputs": [],
   "metadata": {}
  },
  {
   "cell_type": "code",
   "execution_count": null,
   "source": [
    "op_hover_auto = dict(op_hover)\n",
    "op_hover_auto['ic/theta-deg'] = 0\n",
    "op_hover_auto['ic/phi-deg'] = 0\n",
    "op_hover_auto['ic/h-agl-ft'] = 60\n",
    "\n",
    "op_hover_auto['ap/heading-cmd-deg'] = 280\n",
    "op_hover_auto['ap/gear-enable'] = 1\n",
    "op_hover_auto['ap/roll-enable'] = 0\n",
    "op_hover_auto['ap/pitch-enable'] = 1\n",
    "op_hover_auto['ap/yaw-enable'] = 0\n",
    "op_hover_auto['ap/h-enable'] = 1\n",
    "op_hover_auto['ap/h-sl-cmd-ft'] = 700\n",
    "\n",
    "log_hover_auto = simulate(\n",
    "    aircraft='F-35B-2',\n",
    "    op_0=op_hover_auto,\n",
    "    tf=50,\n",
    "    realtime=False, verbose=True)"
   ],
   "outputs": [],
   "metadata": {}
  },
  {
   "cell_type": "code",
   "execution_count": null,
   "source": [
    "log_hover_auto['fcs/throttle-pos-norm'].plot(label='0')\n",
    "log_hover_auto['fcs/throttle-pos-norm[1]'].plot(label='1')\n",
    "log_hover_auto['fcs/throttle-pos-norm[2]'].plot(label='2')\n",
    "log_hover_auto['fcs/throttle-pos-norm[3]'].plot(label='3')\n",
    "\n",
    "plt.legend()"
   ],
   "outputs": [],
   "metadata": {}
  },
  {
   "cell_type": "code",
   "execution_count": null,
   "source": [
    "log_hover_auto['ap/h-error'].plot()"
   ],
   "outputs": [],
   "metadata": {}
  },
  {
   "cell_type": "markdown",
   "source": [
    "## Transition"
   ],
   "metadata": {}
  },
  {
   "cell_type": "markdown",
   "source": [
    "## Cruise Trim"
   ],
   "metadata": {}
  },
  {
   "cell_type": "code",
   "execution_count": null,
   "source": [
    "op_cruise, props = trim(\n",
    "    aircraft=aircraft_model,\n",
    "    ic={\n",
    "        'ic/gamma-deg': 0,\n",
    "        'ic/vt-fps': 600,\n",
    "        'ic/h-sl-ft': 10000,\n",
    "        'gear/gear-cmd-norm': 0,\n",
    "        'fcs/left-brake-cmd-norm': 0,\n",
    "        'fcs/right-brake-cmd-norm': 0,\n",
    "        'fcs/center-brake-cmd-norm': 0,\n",
    "        'propulsion/engine/pitch-angle-rad': 0,\n",
    "    },\n",
    "    design_vector=[\n",
    "        'fcs/throttle-cmd-norm',\n",
    "        'fcs/elevator-cmd-norm',\n",
    "        'fcs/rudder-cmd-norm',\n",
    "        'fcs/aileron-cmd-norm',\n",
    "        'ic/alpha-rad',\n",
    "        'ic/beta-rad',\n",
    "    ],\n",
    "    method='SLSQP',\n",
    "    eq_constraints= [\n",
    "        lambda fdm: fdm['accelerations/udot-ft_sec2'],\n",
    "        lambda fdm: fdm['accelerations/vdot-ft_sec2'],\n",
    "        lambda fdm: fdm['accelerations/wdot-ft_sec2'],\n",
    "        lambda fdm: fdm['accelerations/pdot-rad_sec2'],\n",
    "        lambda fdm: fdm['accelerations/qdot-rad_sec2'],\n",
    "        lambda fdm: fdm['accelerations/rdot-rad_sec2'],\n",
    "    ],\n",
    "    cost=lambda fdm: fdm['fcs/throttle-cmd-norm'],\n",
    "    x0=[0.5, 0, 0, 0, 0, 0],\n",
    "    verbose=False,\n",
    "    bounds=[[0, 1], [-1, 1], [-1, 1], [-1, 1], [-1, 1], [-1, 1]],\n",
    "    tol=1e-3\n",
    ")\n",
    "op_cruise"
   ],
   "outputs": [],
   "metadata": {}
  },
  {
   "cell_type": "code",
   "execution_count": null,
   "source": [
    "log_cruise = simulate(\n",
    "    aircraft='F-35B-2',\n",
    "    op_0=op_cruise,\n",
    "    tf=10,\n",
    "    realtime=False)"
   ],
   "outputs": [],
   "metadata": {}
  },
  {
   "cell_type": "code",
   "execution_count": null,
   "source": [
    "op_cruise_auto = dict(op_cruise)\n",
    "#op_cruise_auto['ic/theta-deg'] = 0\n",
    "#op_cruise_auto['ic/phi-deg'] = 0\n",
    "op_cruise_auto['ap/roll-enable'] = 1\n",
    "op_cruise_auto['ap/pitch-enable'] = 1\n",
    "op_cruise_auto['ap/yaw-enable'] = 1\n",
    "op_cruise_auto['ap/h-enable'] = 1\n",
    "op_cruise_auto['ap/heading-cmd-deg'] = 260\n",
    "op_cruise_auto['ap/h-sl-cmd-ft'] = 10000\n",
    "\n",
    "log_cruise_auto = simulate(\n",
    "    aircraft='F-35B-2',\n",
    "    op_0=op_cruise_auto,\n",
    "    tf=40,\n",
    "    realtime=False)"
   ],
   "outputs": [],
   "metadata": {}
  }
 ],
 "metadata": {
  "kernelspec": {
   "display_name": "Python 3 (ipykernel)",
   "language": "python",
   "name": "python3"
  },
  "language_info": {
   "name": "python",
   "version": "3.9.6",
   "mimetype": "text/x-python",
   "codemirror_mode": {
    "name": "ipython",
    "version": 3
   },
   "pygments_lexer": "ipython3",
   "nbconvert_exporter": "python",
   "file_extension": ".py"
  }
 },
 "nbformat": 4,
 "nbformat_minor": 5
}