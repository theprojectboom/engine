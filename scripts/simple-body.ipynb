{
 "cells": [
  {
   "cell_type": "markdown",
   "source": [
    "# Simple, Phase 1, approximate flight profile simulation"
   ],
   "metadata": {}
  },
  {
   "cell_type": "code",
   "execution_count": 9,
   "source": [
    "import numpy as np\n",
    "import pandas as pd\n",
    "import matplotlib.pyplot as plt\n",
    "import control\n",
    "\n",
    "# Purdue AA451 library\n",
    "from scripts.jsbsim_utils import Logger, trim, simulate, linearize, rootlocus, clean_tf"
   ],
   "outputs": [],
   "metadata": {}
  },
  {
   "cell_type": "code",
   "execution_count": 10,
   "source": [
    "aircraft_model = 'WaveRipper'"
   ],
   "outputs": [],
   "metadata": {}
  },
  {
   "cell_type": "markdown",
   "source": [
    "# Ground Trim"
   ],
   "metadata": {}
  },
  {
   "cell_type": "code",
   "execution_count": 11,
   "source": [
    "op_ground, props = trim(\n",
    "    aircraft=aircraft_model,\n",
    "    ic={\n",
    "        'ic/vt-fps': 0,\n",
    "        'ic/h-agl-ft': 5,\n",
    "        'ic/psi-true-deg': 280,\n",
    "        'fcs/left-brake-cmd-norm': 1,\n",
    "        'fcs/right-brake-cmd-norm': 1,\n",
    "        'fcs/center-brake-cmd-norm': 1,\n",
    "    },\n",
    "    design_vector=['ic/theta-rad', 'ic/h-agl-ft'],\n",
    "    x0=[0, 0],\n",
    "    verbose=True,\n",
    "    method='Nelder-Mead', # works better with ground interaction\n",
    "    ftol=1e-1, # TODO: once full aircraft params are specified, we can have finer fun tolerence\n",
    ")\n",
    "op_ground"
   ],
   "outputs": [
    {
     "output_type": "stream",
     "name": "stdout",
     "text": [
      " final_simplex: (array([[-0.00398416, -0.0198497 ],\n",
      "       [-0.00397723, -0.01982051],\n",
      "       [-0.00397813, -0.01978912]]), array([0.0010305 , 0.00103479, 0.00109463]))\n",
      "           fun: 0.0010305007323130465\n",
      "       message: 'Optimization terminated successfully.'\n",
      "          nfev: 78\n",
      "           nit: 41\n",
      "        status: 0\n",
      "       success: True\n",
      "             x: array([-0.00398416, -0.0198497 ])\n"
     ]
    },
    {
     "output_type": "stream",
     "name": "stderr",
     "text": [
      "\n",
      "  The aerodynamic moment axis system has been set by default to the bodyXYZ system.\n"
     ]
    },
    {
     "output_type": "execute_result",
     "data": {
      "text/plain": [
       "{'ic/vt-fps': 0,\n",
       " 'ic/h-agl-ft': -0.01984969996708967,\n",
       " 'ic/psi-true-deg': 280,\n",
       " 'fcs/left-brake-cmd-norm': 1,\n",
       " 'fcs/right-brake-cmd-norm': 1,\n",
       " 'fcs/center-brake-cmd-norm': 1,\n",
       " 'ic/theta-rad': -0.0039841619774816615}"
      ]
     },
     "metadata": {},
     "execution_count": 11
    }
   ],
   "metadata": {}
  },
  {
   "cell_type": "code",
   "execution_count": 12,
   "source": [
    "op_ground"
   ],
   "outputs": [
    {
     "output_type": "execute_result",
     "data": {
      "text/plain": [
       "{'ic/vt-fps': 0,\n",
       " 'ic/h-agl-ft': -0.01984969996708967,\n",
       " 'ic/psi-true-deg': 280,\n",
       " 'fcs/left-brake-cmd-norm': 1,\n",
       " 'fcs/right-brake-cmd-norm': 1,\n",
       " 'fcs/center-brake-cmd-norm': 1,\n",
       " 'ic/theta-rad': -0.0039841619774816615}"
      ]
     },
     "metadata": {},
     "execution_count": 12
    }
   ],
   "metadata": {}
  },
  {
   "cell_type": "code",
   "execution_count": 13,
   "source": [
    "log_ground = simulate(\n",
    "    aircraft=aircraft_model,\n",
    "    op_0=op_ground,\n",
    "    tf=5,\n",
    "    realtime=False, verbose=True)"
   ],
   "outputs": [
    {
     "output_type": "stream",
     "name": "stderr",
     "text": [
      "\n",
      "  The aerodynamic moment axis system has been set by default to the bodyXYZ system.\n"
     ]
    }
   ],
   "metadata": {}
  },
  {
   "cell_type": "markdown",
   "source": [
    "## Cruise Trim"
   ],
   "metadata": {}
  },
  {
   "cell_type": "code",
   "execution_count": 17,
   "source": [
    "op_cruise, props = trim(\n",
    "    aircraft=aircraft_model,\n",
    "    # For a list of initial conditions available:\n",
    "    # https://jsbsim-team.github.io/jsbsim/classJSBSim_1_1FGInitialCondition.html\n",
    "    ic={\n",
    "        'ic/gamma-deg': 0,                          # Flightpath angle initial condition in degrees\n",
    "        'ic/vt-fps': 600,                           # True airspeed initial condition in feet/second\n",
    "        'ic/h-sl-ft': 10000,                        # Height above sea level initial condition in feet\n",
    "        # 'gear/gear-cmd-norm': 0,\n",
    "    },\n",
    "    design_vector=[\n",
    "        'fcs/throttle-cmd-norm',\n",
    "        'fcs/elevator-cmd-norm',\n",
    "        'fcs/rudder-cmd-norm',\n",
    "        'fcs/aileron-cmd-norm',\n",
    "        'ic/alpha-rad',\n",
    "        'ic/beta-rad',\n",
    "    ],\n",
    "    # method='SLSQP',\n",
    "    method='Nelder-Mead',\n",
    "    # eq_constraints= [\n",
    "    #     lambda fdm: fdm['accelerations/udot-ft_sec2'],\n",
    "    #     lambda fdm: fdm['accelerations/vdot-ft_sec2'],\n",
    "    #     # lambda fdm: fdm['accelerations/wdot-ft_sec2'],\n",
    "    #     # lambda fdm: fdm['accelerations/pdot-rad_sec2'],\n",
    "    #     lambda fdm: fdm['accelerations/qdot-rad_sec2'],\n",
    "    #     lambda fdm: fdm['accelerations/rdot-rad_sec2'],\n",
    "    # ],\n",
    "    cost=lambda fdm: fdm['fcs/throttle-cmd-norm'],\n",
    "    x0=[0.5, 0, 0, 0, 0, 0],\n",
    "    verbose=True,\n",
    "    bounds=[[0, 1], [-1, 1], [-1, 1], [-1, 1], [-1, 1], [-1, 1]],\n",
    "    tol=1e-3\n",
    ")\n",
    "op_cruise"
   ],
   "outputs": [
    {
     "output_type": "stream",
     "name": "stdout",
     "text": [
      " final_simplex: (array([[0.00000000e+00, 7.79320988e-05, 8.55709877e-04, 1.37422840e-03,\n",
      "        3.80401235e-04, 5.36779835e-04],\n",
      "       [0.00000000e+00, 9.51271005e-05, 8.67503644e-04, 1.34718471e-03,\n",
      "        3.53561171e-04, 5.54578547e-04],\n",
      "       [0.00000000e+00, 1.10616355e-04, 8.64988783e-04, 1.37300490e-03,\n",
      "        3.56847637e-04, 5.53797416e-04],\n",
      "       [0.00000000e+00, 1.03089039e-04, 8.57761536e-04, 1.38455695e-03,\n",
      "        3.61631468e-04, 5.87665673e-04],\n",
      "       [0.00000000e+00, 1.10478030e-04, 8.65550618e-04, 1.38227706e-03,\n",
      "        3.77204869e-04, 5.69830379e-04],\n",
      "       [0.00000000e+00, 8.86781397e-05, 8.81321220e-04, 1.41567947e-03,\n",
      "        3.71172207e-04, 5.59161913e-04],\n",
      "       [0.00000000e+00, 9.80941312e-05, 8.79452489e-04, 1.39160298e-03,\n",
      "        3.71738854e-04, 5.68280515e-04]]), array([0., 0., 0., 0., 0., 0., 0.]))\n",
      "           fun: 0.0\n",
      "       message: 'Optimization terminated successfully.'\n",
      "          nfev: 70\n",
      "           nit: 28\n",
      "        status: 0\n",
      "       success: True\n",
      "             x: array([0.00000000e+00, 7.79320988e-05, 8.55709877e-04, 1.37422840e-03,\n",
      "       3.80401235e-04, 5.36779835e-04])\n"
     ]
    },
    {
     "output_type": "stream",
     "name": "stderr",
     "text": [
      "\n",
      "  The aerodynamic moment axis system has been set by default to the bodyXYZ system.\n"
     ]
    },
    {
     "output_type": "execute_result",
     "data": {
      "text/plain": [
       "{'ic/gamma-deg': 0,\n",
       " 'ic/vt-fps': 600,\n",
       " 'ic/h-sl-ft': 10000,\n",
       " 'fcs/throttle-cmd-norm': 0.0,\n",
       " 'fcs/elevator-cmd-norm': 7.79320987654322e-05,\n",
       " 'fcs/rudder-cmd-norm': 0.0008557098765432094,\n",
       " 'fcs/aileron-cmd-norm': 0.0013742283950617285,\n",
       " 'ic/alpha-rad': 0.0003804012345679012,\n",
       " 'ic/beta-rad': 0.0005367798353909464}"
      ]
     },
     "metadata": {},
     "execution_count": 17
    }
   ],
   "metadata": {}
  },
  {
   "cell_type": "code",
   "execution_count": 15,
   "source": [
    "log_cruise = simulate(\n",
    "    aircraft=aircraft_model,\n",
    "    op_0=op_cruise,\n",
    "    tf=10,\n",
    "    realtime=False)"
   ],
   "outputs": [
    {
     "output_type": "stream",
     "name": "stderr",
     "text": [
      "\n",
      "  The aerodynamic moment axis system has been set by default to the bodyXYZ system.\n"
     ]
    }
   ],
   "metadata": {}
  },
  {
   "cell_type": "code",
   "execution_count": 16,
   "source": [
    "op_cruise_auto = dict(op_cruise)\n",
    "#op_cruise_auto['ic/theta-deg'] = 0\n",
    "#op_cruise_auto['ic/phi-deg'] = 0\n",
    "op_cruise_auto['ap/roll-enable'] = 1\n",
    "op_cruise_auto['ap/pitch-enable'] = 1\n",
    "op_cruise_auto['ap/yaw-enable'] = 1\n",
    "op_cruise_auto['ap/h-enable'] = 1\n",
    "op_cruise_auto['ap/heading-cmd-deg'] = 260\n",
    "op_cruise_auto['ap/h-sl-cmd-ft'] = 10000\n",
    "\n",
    "log_cruise_auto = simulate(\n",
    "    aircraft='F-35B-2',\n",
    "    op_0=op_cruise_auto,\n",
    "    tf=40,\n",
    "    realtime=False)"
   ],
   "outputs": [],
   "metadata": {}
  }
 ],
 "metadata": {
  "kernelspec": {
   "display_name": "Python 3 (ipykernel)",
   "language": "python",
   "name": "python3"
  },
  "language_info": {
   "name": "python",
   "version": "3.9.6",
   "mimetype": "text/x-python",
   "codemirror_mode": {
    "name": "ipython",
    "version": 3
   },
   "pygments_lexer": "ipython3",
   "nbconvert_exporter": "python",
   "file_extension": ".py"
  }
 },
 "nbformat": 4,
 "nbformat_minor": 5
}