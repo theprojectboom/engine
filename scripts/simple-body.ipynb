{
 "cells": [
  {
   "cell_type": "markdown",
   "source": [
    "# Simple, Phase 1, approximate flight profile simulation"
   ],
   "metadata": {}
  },
  {
   "cell_type": "code",
   "execution_count": 107,
   "source": [
    "import numpy as np\n",
    "import pandas as pd\n",
    "import matplotlib.pyplot as plt\n",
    "import control\n",
    "\n",
    "# Purdue AA451 library\n",
    "from scripts.jsbsim_utils import Logger, trim, simulate, linearize, rootlocus, clean_tf"
   ],
   "outputs": [],
   "metadata": {}
  },
  {
   "cell_type": "code",
   "execution_count": 108,
   "source": [
    "aircraft_model = 'WaveRipper'"
   ],
   "outputs": [],
   "metadata": {}
  },
  {
   "cell_type": "markdown",
   "source": [
    "# Ground Trim"
   ],
   "metadata": {}
  },
  {
   "cell_type": "code",
   "execution_count": 112,
   "source": [
    "op_ground, props = trim(\n",
    "    aircraft=aircraft_model,\n",
    "    ic={\n",
    "        'ic/vt-fps': 0,\n",
    "        'ic/h-agl-ft': 5,\n",
    "        'ic/psi-true-deg': 280,\n",
    "        'fcs/left-brake-cmd-norm': 1,\n",
    "        'fcs/right-brake-cmd-norm': 1,\n",
    "        'fcs/center-brake-cmd-norm': 1,\n",
    "    },\n",
    "    design_vector=['ic/theta-rad', 'ic/h-agl-ft'],\n",
    "    x0=[0, 0],\n",
    "    verbose=True,\n",
    "    method='Nelder-Mead', # works better with ground interaction\n",
    "    ftol=1e-1,\n",
    ")\n",
    "op_ground"
   ],
   "outputs": [
    {
     "output_type": "stream",
     "name": "stdout",
     "text": [
      " final_simplex: (array([[-0.0036453 , -0.00151608],\n",
      "       [-0.0036714 , -0.00144496],\n",
      "       [-0.00367275, -0.00142257]]), array([0.09572609, 0.09572946, 0.09573725]))\n",
      "           fun: 0.095726085184104\n",
      "       message: 'Optimization terminated successfully.'\n",
      "          nfev: 55\n",
      "           nit: 29\n",
      "        status: 0\n",
      "       success: True\n",
      "             x: array([-0.0036453 , -0.00151608])\n"
     ]
    },
    {
     "output_type": "stream",
     "name": "stderr",
     "text": [
      "\n",
      "  The aerodynamic moment axis system has been set by default to the bodyXYZ system.\n"
     ]
    },
    {
     "output_type": "execute_result",
     "data": {
      "text/plain": [
       "{'ic/vt-fps': 0,\n",
       " 'ic/h-agl-ft': -0.0015160835740243772,\n",
       " 'ic/psi-true-deg': 280,\n",
       " 'fcs/left-brake-cmd-norm': 1,\n",
       " 'fcs/right-brake-cmd-norm': 1,\n",
       " 'fcs/center-brake-cmd-norm': 1,\n",
       " 'ic/theta-rad': -0.003645302904478732}"
      ]
     },
     "metadata": {},
     "execution_count": 112
    }
   ],
   "metadata": {}
  },
  {
   "cell_type": "code",
   "execution_count": 113,
   "source": [
    "op_ground"
   ],
   "outputs": [
    {
     "output_type": "execute_result",
     "data": {
      "text/plain": [
       "{'ic/vt-fps': 0,\n",
       " 'ic/h-agl-ft': -0.0015160835740243772,\n",
       " 'ic/psi-true-deg': 280,\n",
       " 'fcs/left-brake-cmd-norm': 1,\n",
       " 'fcs/right-brake-cmd-norm': 1,\n",
       " 'fcs/center-brake-cmd-norm': 1,\n",
       " 'ic/theta-rad': -0.003645302904478732}"
      ]
     },
     "metadata": {},
     "execution_count": 113
    }
   ],
   "metadata": {}
  },
  {
   "cell_type": "code",
   "execution_count": 114,
   "source": [
    "log_ground = simulate(\n",
    "    aircraft=aircraft_model,\n",
    "    op_0=op_ground,\n",
    "    tf=5,\n",
    "    realtime=False, verbose=True)"
   ],
   "outputs": [
    {
     "output_type": "stream",
     "name": "stderr",
     "text": [
      "\n",
      "  The aerodynamic moment axis system has been set by default to the bodyXYZ system.\n"
     ]
    }
   ],
   "metadata": {}
  },
  {
   "cell_type": "markdown",
   "source": [
    "## Cruise Trim"
   ],
   "metadata": {}
  },
  {
   "cell_type": "code",
   "execution_count": 116,
   "source": [
    "op_cruise, props = trim(\n",
    "    aircraft=aircraft_model,\n",
    "    # For a list of initial conditions available:\n",
    "    # https://jsbsim-team.github.io/jsbsim/classJSBSim_1_1FGInitialCondition.html\n",
    "    ic={\n",
    "        'ic/gamma-deg': 0,                          # Flightpath angle initial condition in degrees\n",
    "        'ic/vt-fps': 600,                           # True airspeed initial condition in feet/second\n",
    "        'ic/h-sl-ft': 10000,                        # Height above sea level initial condition in feet\n",
    "        'gear/gear-cmd-norm': 0,\n",
    "        'propulsion/engine/pitch-angle-rad': 0,\n",
    "    },\n",
    "    design_vector=[\n",
    "        'fcs/throttle-cmd-norm',\n",
    "        'fcs/elevator-cmd-norm',\n",
    "        'fcs/rudder-cmd-norm',\n",
    "        'fcs/aileron-cmd-norm',\n",
    "        'ic/alpha-rad',\n",
    "        'ic/beta-rad',\n",
    "    ],\n",
    "    method='SLSQP',\n",
    "    eq_constraints= [\n",
    "        lambda fdm: fdm['accelerations/udot-ft_sec2'],\n",
    "        lambda fdm: fdm['accelerations/vdot-ft_sec2'],\n",
    "        lambda fdm: fdm['accelerations/wdot-ft_sec2'],\n",
    "        lambda fdm: fdm['accelerations/pdot-rad_sec2'],\n",
    "        lambda fdm: fdm['accelerations/qdot-rad_sec2'],\n",
    "        lambda fdm: fdm['accelerations/rdot-rad_sec2'],\n",
    "    ],\n",
    "    cost=lambda fdm: fdm['fcs/throttle-cmd-norm'],\n",
    "    x0=[0.5, 0, 0, 0, 0, 0],\n",
    "    verbose=False,\n",
    "    bounds=[[0, 1], [-1, 1], [-1, 1], [-1, 1], [-1, 1], [-1, 1]],\n",
    "    tol=1e-3\n",
    ")\n",
    "op_cruise"
   ],
   "outputs": [
    {
     "output_type": "stream",
     "name": "stderr",
     "text": [
      "\n",
      "  The aerodynamic moment axis system has been set by default to the bodyXYZ system.\n"
     ]
    },
    {
     "output_type": "error",
     "ename": "RuntimeError",
     "evalue": "trim failed:\n     fun: 0.5\n     jac: array([1., 0., 0., 0., 0., 0.])\n message: 'Singular matrix C in LSQ subproblem'\n    nfev: 7\n     nit: 1\n    njev: 1\n  status: 6\n success: False\n       x: array([0.5, 0. , 0. , 0. , 0. , 0. ])\n{'accelerations/a-pilot-x-ft_sec2': 14.88468803876103, 'accelerations/a-pilot-y-ft_sec2': -1.062270911025521, 'accelerations/a-pilot-z-ft_sec2': -5.3178335117001145, 'accelerations/n-pilot-x-norm': 0.46263024725205476, 'accelerations/n-pilot-y-norm': -0.033016389254289576, 'accelerations/n-pilot-z-norm': -0.16528331839784177, 'accelerations/Nx': 0.462630247625398, 'accelerations/Ny': -0.024112211638101243, 'accelerations/Nz': 0.12021376293816591, 'accelerations/pdot-rad_sec2': 2.584833763975e-09, 'accelerations/qdot-rad_sec2': 0.6306997621480777, 'accelerations/rdot-rad_sec2': -0.12460435154496835, 'accelerations/udot-ft_sec2': 14.884675438581564, 'accelerations/vdot-ft_sec2': -0.7191321948201836, 'accelerations/wdot-ft_sec2': 28.326179640783543, 'accelerations/gravity-ft_sec2': 32.19300621350804}",
     "traceback": [
      "\u001b[0;31m---------------------------------------------------------------------------\u001b[0m",
      "\u001b[0;31mRuntimeError\u001b[0m                              Traceback (most recent call last)",
      "\u001b[0;32m/var/folders/0y/ty6zvtq53lq_qltzlh53bf6w0000gn/T/ipykernel_27249/2166325290.py\u001b[0m in \u001b[0;36m<module>\u001b[0;34m\u001b[0m\n\u001b[0;32m----> 1\u001b[0;31m op_cruise, props = trim(\n\u001b[0m\u001b[1;32m      2\u001b[0m     \u001b[0maircraft\u001b[0m\u001b[0;34m=\u001b[0m\u001b[0maircraft_model\u001b[0m\u001b[0;34m,\u001b[0m\u001b[0;34m\u001b[0m\u001b[0;34m\u001b[0m\u001b[0m\n\u001b[1;32m      3\u001b[0m     \u001b[0;31m# For a list of initial conditions available:\u001b[0m\u001b[0;34m\u001b[0m\u001b[0;34m\u001b[0m\u001b[0;34m\u001b[0m\u001b[0m\n\u001b[1;32m      4\u001b[0m     \u001b[0;31m# https://jsbsim-team.github.io/jsbsim/classJSBSim_1_1FGInitialCondition.html\u001b[0m\u001b[0;34m\u001b[0m\u001b[0;34m\u001b[0m\u001b[0;34m\u001b[0m\u001b[0m\n\u001b[1;32m      5\u001b[0m     ic={\n",
      "\u001b[0;32m~/workfolder/boom/engine/scripts/jsbsim_utils.py\u001b[0m in \u001b[0;36mtrim\u001b[0;34m(aircraft, ic, design_vector, x0, verbose, cost, eq_constraints, tol, ftol, show, **kwargs)\u001b[0m\n\u001b[1;32m    121\u001b[0m         \u001b[0;32mfor\u001b[0m \u001b[0mcon\u001b[0m \u001b[0;32min\u001b[0m \u001b[0mconstraints\u001b[0m\u001b[0;34m:\u001b[0m\u001b[0;34m\u001b[0m\u001b[0;34m\u001b[0m\u001b[0m\n\u001b[1;32m    122\u001b[0m             \u001b[0mprint\u001b[0m\u001b[0;34m(\u001b[0m\u001b[0;34m'constraint'\u001b[0m\u001b[0;34m,\u001b[0m \u001b[0mcon\u001b[0m\u001b[0;34m[\u001b[0m\u001b[0;34m'type'\u001b[0m\u001b[0;34m]\u001b[0m\u001b[0;34m,\u001b[0m \u001b[0mcon\u001b[0m\u001b[0;34m[\u001b[0m\u001b[0;34m'fun'\u001b[0m\u001b[0;34m]\u001b[0m\u001b[0;34m(\u001b[0m\u001b[0mres\u001b[0m\u001b[0;34m[\u001b[0m\u001b[0;34m'x'\u001b[0m\u001b[0;34m]\u001b[0m\u001b[0;34m,\u001b[0m \u001b[0;34m*\u001b[0m\u001b[0mcon\u001b[0m\u001b[0;34m[\u001b[0m\u001b[0;34m'args'\u001b[0m\u001b[0;34m]\u001b[0m\u001b[0;34m)\u001b[0m\u001b[0;34m)\u001b[0m\u001b[0;34m\u001b[0m\u001b[0;34m\u001b[0m\u001b[0m\n\u001b[0;32m--> 123\u001b[0;31m \u001b[0;34m\u001b[0m\u001b[0m\n\u001b[0m\u001b[1;32m    124\u001b[0m     \u001b[0;32mif\u001b[0m \u001b[0;32mnot\u001b[0m \u001b[0mres\u001b[0m\u001b[0;34m[\u001b[0m\u001b[0;34m'success'\u001b[0m\u001b[0;34m]\u001b[0m \u001b[0;32mor\u001b[0m \u001b[0mftol\u001b[0m \u001b[0;32mis\u001b[0m \u001b[0;32mnot\u001b[0m \u001b[0;32mNone\u001b[0m \u001b[0;32mand\u001b[0m \u001b[0mabs\u001b[0m\u001b[0;34m(\u001b[0m\u001b[0mres\u001b[0m\u001b[0;34m[\u001b[0m\u001b[0;34m'fun'\u001b[0m\u001b[0;34m]\u001b[0m\u001b[0;34m)\u001b[0m \u001b[0;34m>\u001b[0m \u001b[0mftol\u001b[0m\u001b[0;34m:\u001b[0m\u001b[0;34m\u001b[0m\u001b[0;34m\u001b[0m\u001b[0m\n\u001b[1;32m    125\u001b[0m         raise RuntimeError('trim failed:\\n' + str(res) + '\\n' + \\\n",
      "\u001b[0;31mRuntimeError\u001b[0m: trim failed:\n     fun: 0.5\n     jac: array([1., 0., 0., 0., 0., 0.])\n message: 'Singular matrix C in LSQ subproblem'\n    nfev: 7\n     nit: 1\n    njev: 1\n  status: 6\n success: False\n       x: array([0.5, 0. , 0. , 0. , 0. , 0. ])\n{'accelerations/a-pilot-x-ft_sec2': 14.88468803876103, 'accelerations/a-pilot-y-ft_sec2': -1.062270911025521, 'accelerations/a-pilot-z-ft_sec2': -5.3178335117001145, 'accelerations/n-pilot-x-norm': 0.46263024725205476, 'accelerations/n-pilot-y-norm': -0.033016389254289576, 'accelerations/n-pilot-z-norm': -0.16528331839784177, 'accelerations/Nx': 0.462630247625398, 'accelerations/Ny': -0.024112211638101243, 'accelerations/Nz': 0.12021376293816591, 'accelerations/pdot-rad_sec2': 2.584833763975e-09, 'accelerations/qdot-rad_sec2': 0.6306997621480777, 'accelerations/rdot-rad_sec2': -0.12460435154496835, 'accelerations/udot-ft_sec2': 14.884675438581564, 'accelerations/vdot-ft_sec2': -0.7191321948201836, 'accelerations/wdot-ft_sec2': 28.326179640783543, 'accelerations/gravity-ft_sec2': 32.19300621350804}"
     ]
    }
   ],
   "metadata": {}
  },
  {
   "cell_type": "code",
   "execution_count": null,
   "source": [
    "log_cruise = simulate(\n",
    "    aircraft='F-35B-2',\n",
    "    op_0=op_cruise,\n",
    "    tf=10,\n",
    "    realtime=False)"
   ],
   "outputs": [],
   "metadata": {}
  },
  {
   "cell_type": "code",
   "execution_count": null,
   "source": [
    "op_cruise_auto = dict(op_cruise)\n",
    "#op_cruise_auto['ic/theta-deg'] = 0\n",
    "#op_cruise_auto['ic/phi-deg'] = 0\n",
    "op_cruise_auto['ap/roll-enable'] = 1\n",
    "op_cruise_auto['ap/pitch-enable'] = 1\n",
    "op_cruise_auto['ap/yaw-enable'] = 1\n",
    "op_cruise_auto['ap/h-enable'] = 1\n",
    "op_cruise_auto['ap/heading-cmd-deg'] = 260\n",
    "op_cruise_auto['ap/h-sl-cmd-ft'] = 10000\n",
    "\n",
    "log_cruise_auto = simulate(\n",
    "    aircraft='F-35B-2',\n",
    "    op_0=op_cruise_auto,\n",
    "    tf=40,\n",
    "    realtime=False)"
   ],
   "outputs": [],
   "metadata": {}
  }
 ],
 "metadata": {
  "kernelspec": {
   "display_name": "Python 3 (ipykernel)",
   "language": "python",
   "name": "python3"
  },
  "language_info": {
   "name": "python",
   "version": "3.9.6",
   "mimetype": "text/x-python",
   "codemirror_mode": {
    "name": "ipython",
    "version": 3
   },
   "pygments_lexer": "ipython3",
   "nbconvert_exporter": "python",
   "file_extension": ".py"
  }
 },
 "nbformat": 4,
 "nbformat_minor": 5
}